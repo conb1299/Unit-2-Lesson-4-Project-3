{
 "cells": [
  {
   "cell_type": "code",
   "execution_count": 1,
   "metadata": {
    "collapsed": true
   },
   "outputs": [],
   "source": [
    "import math\n",
    "import warnings\n",
    "\n",
    "from IPython.display import display\n",
    "from matplotlib import pyplot as plt\n",
    "import numpy as np\n",
    "import pandas as pd\n",
    "import seaborn as sns\n",
    "from sklearn import linear_model\n",
    "import statsmodels.formula.api as smf\n",
    "\n",
    "# Display preferences.\n",
    "%matplotlib inline\n",
    "pd.options.display.float_format = '{:.3f}'.format\n",
    "\n",
    "# Suppress annoying harmless error.\n",
    "warnings.filterwarnings(\n",
    "    action=\"ignore\",\n",
    "    module=\"scipy\",\n",
    "    message=\"^internal gelsd\"\n",
    ")"
   ]
  },
  {
   "cell_type": "code",
   "execution_count": 2,
   "metadata": {
    "collapsed": true
   },
   "outputs": [],
   "source": [
    "raw = pd.ExcelFile('Crime.xls')"
   ]
  },
  {
   "cell_type": "code",
   "execution_count": 3,
   "metadata": {
    "collapsed": true
   },
   "outputs": [],
   "source": [
    "df = raw.parse('13tbl8ny')"
   ]
  },
  {
   "cell_type": "code",
   "execution_count": 4,
   "metadata": {
    "collapsed": true
   },
   "outputs": [],
   "source": [
    "df = df.drop(df.index[[0,1,2,3]])"
   ]
  },
  {
   "cell_type": "code",
   "execution_count": 5,
   "metadata": {
    "collapsed": true
   },
   "outputs": [],
   "source": [
    "df.drop('Unnamed: 4', axis=1, inplace=True)"
   ]
  },
  {
   "cell_type": "code",
   "execution_count": 6,
   "metadata": {
    "collapsed": true
   },
   "outputs": [],
   "source": [
    "df.rename(columns={'Table 8': 'City', 'Unnamed: 1': 'Population', 'Unnamed: 2': 'Violent Crime', 'Unnamed: 5': 'Murder/Manslaughter'}, inplace=True)"
   ]
  },
  {
   "cell_type": "code",
   "execution_count": 7,
   "metadata": {
    "collapsed": true
   },
   "outputs": [],
   "source": [
    "df.rename(columns={'Unnamed: 3': 'Murder', 'Murder/Manslaughter': 'Rape', 'Unnamed: 6': 'Robbery', \n",
    "                'Unnamed: 7': 'Aggravated Assault', 'Unnamed: 8': 'Property Crime', 'Unnamed: 9': 'Burglary',\n",
    "                'Unnamed: 10': 'Larceny-Theft', 'Unnamed: 11': 'Motor Vehicle Theft', 'Unnamed: 12': 'Arson'  }, inplace=True)"
   ]
  },
  {
   "cell_type": "code",
   "execution_count": 15,
   "metadata": {},
   "outputs": [
    {
     "data": {
      "text/plain": [
       "4        1861\n",
       "5        2577\n",
       "6        2846\n",
       "7       97956\n",
       "8        6388\n",
       "9        4089\n",
       "10       1781\n",
       "11     118296\n",
       "12       9519\n",
       "13      18182\n",
       "14       2053\n",
       "15       4523\n",
       "16        658\n",
       "17       2522\n",
       "18      27270\n",
       "19       3333\n",
       "20       7473\n",
       "21       5418\n",
       "22      15374\n",
       "23       5733\n",
       "24      17627\n",
       "25      34243\n",
       "26      46304\n",
       "27       1410\n",
       "28      12001\n",
       "29       1022\n",
       "30       2325\n",
       "31       2054\n",
       "32       2065\n",
       "33       2358\n",
       "        ...  \n",
       "322      3642\n",
       "323       615\n",
       "324     12195\n",
       "325     61686\n",
       "326     27980\n",
       "327      6887\n",
       "328     27940\n",
       "329      3012\n",
       "330      3453\n",
       "331      5828\n",
       "332      8392\n",
       "333      5175\n",
       "334     28179\n",
       "335     10245\n",
       "336      1862\n",
       "337      4337\n",
       "338     43777\n",
       "339      1797\n",
       "340      4574\n",
       "341      1732\n",
       "342     44821\n",
       "343      2604\n",
       "344     57559\n",
       "345      3733\n",
       "346      9141\n",
       "347     10685\n",
       "348       829\n",
       "349      5931\n",
       "350    199134\n",
       "351     36643\n",
       "Name: Population, Length: 348, dtype: object"
      ]
     },
     "execution_count": 15,
     "metadata": {},
     "output_type": "execute_result"
    }
   ],
   "source": [
    "df['Population']"
   ]
  },
  {
   "cell_type": "code",
   "execution_count": 8,
   "metadata": {
    "collapsed": true
   },
   "outputs": [],
   "source": [
    "df = df.drop(df.index[[349,350,348]])"
   ]
  },
  {
   "cell_type": "code",
   "execution_count": 9,
   "metadata": {
    "collapsed": true
   },
   "outputs": [],
   "source": [
    "df['Robbery'] = df.Robbery.apply(lambda x: 0 if x== 0 else 1)"
   ]
  },
  {
   "cell_type": "code",
   "execution_count": 10,
   "metadata": {
    "collapsed": true
   },
   "outputs": [],
   "source": [
    "df['Murder'] = df.Murder.apply(lambda x: 0 if x== 0 else 1)"
   ]
  },
  {
   "cell_type": "code",
   "execution_count": 25,
   "metadata": {
    "collapsed": true
   },
   "outputs": [],
   "source": [
    "df['Population_2'] = df['Population']**2"
   ]
  },
  {
   "cell_type": "code",
   "execution_count": 12,
   "metadata": {},
   "outputs": [
    {
     "data": {
      "text/plain": [
       "LinearRegression(copy_X=True, fit_intercept=True, n_jobs=1, normalize=False)"
      ]
     },
     "execution_count": 12,
     "metadata": {},
     "output_type": "execute_result"
    }
   ],
   "source": [
    "regr = linear_model.LinearRegression()\n",
    "Y = df['Property Crime']\n",
    "X = df[['Murder', 'Robbery', 'Population', 'Population_2' ]]\n",
    "regr.fit(X, Y)\n"
   ]
  },
  {
   "cell_type": "code",
   "execution_count": 13,
   "metadata": {},
   "outputs": [
    {
     "name": "stdout",
     "output_type": "stream",
     "text": [
      "\n",
      "Coefficients: \n",
      " [  1.51400000e+01  -9.62800000e+01   3.00000000e-02  -0.00000000e+00]\n",
      "\n",
      "Intercept: \n",
      " -109.572518554\n",
      "\n",
      "R-squared:\n",
      "0.99612471045\n"
     ]
    }
   ],
   "source": [
    "print('\\nCoefficients: \\n', np.round(regr.coef_,decimals=2))\n",
    "print('\\nIntercept: \\n', regr.intercept_)\n",
    "print('\\nR-squared:')\n",
    "print(regr.score(X, Y))\n",
    "pd.set_option('display.precision', 2)\n",
    "#Our first attempt at a model had a very high r squared number but also had a negative correlation for Robbery which did not\n",
    "#Seem to make sense. We decide to investigate further."
   ]
  },
  {
   "cell_type": "code",
   "execution_count": 18,
   "metadata": {},
   "outputs": [
    {
     "data": {
      "image/png": "[encoded data removed]",
      "text/plain": [
       "<matplotlib.figure.Figure at 0xfd56e5c908>"
      ]
     },
     "metadata": {},
     "output_type": "display_data"
    }
   ],
   "source": [
    "plt.scatter(df['Property Crime'], df['Population'])\n",
    "plt.title('Raw values')\n",
    "plt.xlim(0,5000)\n",
    "plt.ylim(0,150000)\n",
    "plt.show()\n",
    "#The majority of our data is clustered and seems relative linear. We will remove outliers to improve accuracy and maintain linear form."
   ]
  },
  {
   "cell_type": "code",
   "execution_count": 19,
   "metadata": {},
   "outputs": [
    {
     "data": {
      "image/png": "[encoded data removed]",
      "text/plain": [
       "<matplotlib.figure.Figure at 0xfd56f61b00>"
      ]
     },
     "metadata": {},
     "output_type": "display_data"
    }
   ],
   "source": [
    "# Extract predicted values.\n",
    "predicted = regr.predict(X).ravel()\n",
    "actual = df['Property Crime']\n",
    "residual = actual - predicted\n",
    "\n",
    "\n",
    "plt.hist(residual)\n",
    "plt.title('Residual counts')\n",
    "plt.xlim(-2000,2000)\n",
    "plt.xlabel('Residual')\n",
    "plt.ylabel('Count')\n",
    "plt.show()\n",
    "#We saw a very common error of -500. Again we will remove outliers in subsequent runs to improve multivariate normality."
   ]
  },
  {
   "cell_type": "code",
   "execution_count": 20,
   "metadata": {},
   "outputs": [
    {
     "data": {
      "image/png": "[encoded data removed]",
      "text/plain": [
       "<matplotlib.figure.Figure at 0xfd56e24eb8>"
      ]
     },
     "metadata": {},
     "output_type": "display_data"
    }
   ],
   "source": [
    "plt.scatter(predicted, residual)\n",
    "plt.xlabel('Predicted')\n",
    "plt.ylabel('Residual')\n",
    "plt.axhline(y=0)\n",
    "plt.xlim(0,10000)\n",
    "plt.title('Residual vs. Predicted')\n",
    "plt.show()\n",
    "#Again as this graph shows it will help our data to remove outliers. Some of our data is in object form rather than integer form.\n",
    "#We will try and correct these errors with our second run through."
   ]
  },
  {
   "cell_type": "code",
   "execution_count": 21,
   "metadata": {
    "collapsed": true
   },
   "outputs": [],
   "source": [
    "df['Population']= df['Population'].astype(int)"
   ]
  },
  {
   "cell_type": "code",
   "execution_count": 22,
   "metadata": {
    "collapsed": true
   },
   "outputs": [],
   "source": [
    "df = df[df['Population'] < 100000]"
   ]
  },
  {
   "cell_type": "code",
   "execution_count": 23,
   "metadata": {
    "collapsed": true
   },
   "outputs": [],
   "source": [
    "df['Property Crime']= df['Property Crime'].astype(int)"
   ]
  },
  {
   "cell_type": "code",
   "execution_count": 26,
   "metadata": {},
   "outputs": [],
   "source": [
    "df['Population_2'] = df['Population_2'].astype(int)"
   ]
  },
  {
   "cell_type": "code",
   "execution_count": 27,
   "metadata": {},
   "outputs": [
    {
     "data": {
      "text/plain": [
       "LinearRegression(copy_X=True, fit_intercept=True, n_jobs=1, normalize=False)"
      ]
     },
     "execution_count": 27,
     "metadata": {},
     "output_type": "execute_result"
    }
   ],
   "source": [
    "#We run Regression again with all data as integers and outliers removed.\n",
    "regr = linear_model.LinearRegression()\n",
    "Y = df['Property Crime']\n",
    "X = df[['Murder', 'Robbery', 'Population', 'Population_2' ]]\n",
    "regr.fit(X, Y)\n"
   ]
  },
  {
   "cell_type": "code",
   "execution_count": 28,
   "metadata": {},
   "outputs": [
    {
     "name": "stdout",
     "output_type": "stream",
     "text": [
      "\n",
      "Coefficients: \n",
      " [  1.57350000e+02   3.76500000e+01   2.00000000e-02  -0.00000000e+00]\n",
      "\n",
      "Intercept: \n",
      " -58.923204464\n",
      "\n",
      "R-squared:\n",
      "0.734711719065\n"
     ]
    }
   ],
   "source": [
    "print('\\nCoefficients: \\n', np.round(regr.coef_,decimals=2))\n",
    "print('\\nIntercept: \\n', regr.intercept_)\n",
    "print('\\nR-squared:')\n",
    "print(regr.score(X, Y))\n",
    "pd.set_option('display.precision', 2)\n",
    "#Our R squared is significantly lower but our correlations seem to make much more sense than previous. Time to test our other\n",
    "#assumptions."
   ]
  },
  {
   "cell_type": "code",
   "execution_count": 30,
   "metadata": {},
   "outputs": [
    {
     "data": {
      "image/png": "[encoded data removed]",
      "text/plain": [
       "<matplotlib.figure.Figure at 0xfd56f61940>"
      ]
     },
     "metadata": {},
     "output_type": "display_data"
    }
   ],
   "source": [
    "plt.scatter(df['Property Crime'], df['Population'])\n",
    "plt.title('Raw values')\n",
    "plt.xlim(0,3000)\n",
    "plt.ylim(0,120000)\n",
    "plt.show()\n",
    "#Still a few outliers but much fewer. Our residuals will see if we have improved our error."
   ]
  },
  {
   "cell_type": "code",
   "execution_count": 31,
   "metadata": {},
   "outputs": [
    {
     "data": {
      "image/png": "[encoded data removed]",
      "text/plain": [
       "<matplotlib.figure.Figure at 0xfd56ca41d0>"
      ]
     },
     "metadata": {},
     "output_type": "display_data"
    }
   ],
   "source": [
    "predicted = regr.predict(X).ravel()\n",
    "actual = df['Property Crime']\n",
    "residual = actual - predicted\n",
    "\n",
    "\n",
    "plt.hist(residual)\n",
    "plt.title('Residual counts')\n",
    "plt.xlim(-2000,2000)\n",
    "plt.xlabel('Residual')\n",
    "plt.ylabel('Count')\n",
    "plt.show()\n",
    "#Our residual error is much more clustered around 0 and spreads less far out. This works well for our model."
   ]
  },
  {
   "cell_type": "code",
   "execution_count": 35,
   "metadata": {},
   "outputs": [
    {
     "data": {
      "image/png": "[encoded data removed]",
      "text/plain": [
       "<matplotlib.figure.Figure at 0xfd57e2abe0>"
      ]
     },
     "metadata": {},
     "output_type": "display_data"
    }
   ],
   "source": [
    "plt.scatter(predicted, residual)\n",
    "plt.xlabel('Predicted')\n",
    "plt.ylabel('Residual')\n",
    "plt.axhline(y=0)\n",
    "plt.xlim(0,10000)\n",
    "plt.title('Residual vs. Predicted')\n",
    "plt.show()\n",
    "#Using the same scale as previous we can see our data is more clustered around the 0 axis.\n",
    "#Finally we will run a correlation matrix to test our last assumption."
   ]
  },
  {
   "cell_type": "code",
   "execution_count": 36,
   "metadata": {},
   "outputs": [
    {
     "data": {
      "text/html": [
       "<div>\n",
       "<style>\n",
       "    .dataframe thead tr:only-child th {\n",
       "        text-align: right;\n",
       "    }\n",
       "\n",
       "    .dataframe thead th {\n",
       "        text-align: left;\n",
       "    }\n",
       "\n",
       "    .dataframe tbody tr th {\n",
       "        vertical-align: top;\n",
       "    }\n",
       "</style>\n",
       "<table border=\"1\" class=\"dataframe\">\n",
       "  <thead>\n",
       "    <tr style=\"text-align: right;\">\n",
       "      <th></th>\n",
       "      <th>Population</th>\n",
       "      <th>Population_2</th>\n",
       "      <th>Property Crime</th>\n",
       "      <th>Murder</th>\n",
       "      <th>Robbery</th>\n",
       "    </tr>\n",
       "  </thead>\n",
       "  <tbody>\n",
       "    <tr>\n",
       "      <th>Population</th>\n",
       "      <td>1.000</td>\n",
       "      <td>0.343</td>\n",
       "      <td>0.849</td>\n",
       "      <td>0.470</td>\n",
       "      <td>0.443</td>\n",
       "    </tr>\n",
       "    <tr>\n",
       "      <th>Population_2</th>\n",
       "      <td>0.343</td>\n",
       "      <td>1.000</td>\n",
       "      <td>0.237</td>\n",
       "      <td>0.114</td>\n",
       "      <td>0.244</td>\n",
       "    </tr>\n",
       "    <tr>\n",
       "      <th>Property Crime</th>\n",
       "      <td>0.849</td>\n",
       "      <td>0.237</td>\n",
       "      <td>1.000</td>\n",
       "      <td>0.487</td>\n",
       "      <td>0.410</td>\n",
       "    </tr>\n",
       "    <tr>\n",
       "      <th>Murder</th>\n",
       "      <td>0.470</td>\n",
       "      <td>0.114</td>\n",
       "      <td>0.487</td>\n",
       "      <td>1.000</td>\n",
       "      <td>0.296</td>\n",
       "    </tr>\n",
       "    <tr>\n",
       "      <th>Robbery</th>\n",
       "      <td>0.443</td>\n",
       "      <td>0.244</td>\n",
       "      <td>0.410</td>\n",
       "      <td>0.296</td>\n",
       "      <td>1.000</td>\n",
       "    </tr>\n",
       "  </tbody>\n",
       "</table>\n",
       "</div>"
      ],
      "text/plain": [
       "                Population  Population_2  Property Crime  Murder  Robbery\n",
       "Population           1.000         0.343           0.849   0.470    0.443\n",
       "Population_2         0.343         1.000           0.237   0.114    0.244\n",
       "Property Crime       0.849         0.237           1.000   0.487    0.410\n",
       "Murder               0.470         0.114           0.487   1.000    0.296\n",
       "Robbery              0.443         0.244           0.410   0.296    1.000"
      ]
     },
     "execution_count": 36,
     "metadata": {},
     "output_type": "execute_result"
    }
   ],
   "source": [
    "df[['Population','Population_2', 'Property Crime', 'Murder', 'Robbery']].corr()"
   ]
  },
  {
   "cell_type": "markdown",
   "metadata": {},
   "source": [
    "Population predicitably has the highest correlation with property crime, but none of the features are overly correlated with each other. By eliminating the outliers and converting all our data to integer form we have improved on our assumptions that are needed for linear regression. In the next project we will look to improve our model as a whole to improve predictive power."
   ]
  }
 ],
 "metadata": {
  "kernelspec": {
   "display_name": "Python 3",
   "language": "python",
   "name": "python3"
  },
  "language_info": {
   "codemirror_mode": {
    "name": "ipython",
    "version": 3
   },
   "file_extension": ".py",
   "mimetype": "text/x-python",
   "name": "python",
   "nbconvert_exporter": "python",
   "pygments_lexer": "ipython3",
   "version": "3.6.1"
  }
 },
 "nbformat": 4,
 "nbformat_minor": 2
}
